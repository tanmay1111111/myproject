{
 "cells": [
  {
   "cell_type": "markdown",
   "id": "dcbac95d",
   "metadata": {},
   "source": [
    "# working with sql"
   ]
  },
  {
   "cell_type": "code",
   "execution_count": 1,
   "id": "20bd4043",
   "metadata": {},
   "outputs": [],
   "source": [
    "#!pip install mysql connector"
   ]
  },
  {
   "cell_type": "code",
   "execution_count": 2,
   "id": "02b28187",
   "metadata": {},
   "outputs": [],
   "source": [
    "#import mysql.connector"
   ]
  },
  {
   "cell_type": "code",
   "execution_count": 5,
   "id": "658309d3",
   "metadata": {},
   "outputs": [],
   "source": [
    "#conn=mysql.connector(host='',user='',password='',database='datbasename)"
   ]
  },
  {
   "cell_type": "code",
   "execution_count": 6,
   "id": "ca41ce65",
   "metadata": {},
   "outputs": [],
   "source": [
    "#pd.read_sql_query(sql query,conn)"
   ]
  },
  {
   "cell_type": "markdown",
   "id": "0c756c59",
   "metadata": {},
   "source": [
    "# working with jason"
   ]
  },
  {
   "cell_type": "code",
   "execution_count": 7,
   "id": "2f04daf4",
   "metadata": {},
   "outputs": [],
   "source": [
    "#importing pandas"
   ]
  },
  {
   "cell_type": "code",
   "execution_count": 8,
   "id": "5d68d87c",
   "metadata": {},
   "outputs": [],
   "source": [
    "#pd.read_jason('filename')"
   ]
  },
  {
   "cell_type": "code",
   "execution_count": null,
   "id": "026d52f3",
   "metadata": {},
   "outputs": [],
   "source": []
  }
 ],
 "metadata": {
  "kernelspec": {
   "display_name": "Python 3 (ipykernel)",
   "language": "python",
   "name": "python3"
  },
  "language_info": {
   "codemirror_mode": {
    "name": "ipython",
    "version": 3
   },
   "file_extension": ".py",
   "mimetype": "text/x-python",
   "name": "python",
   "nbconvert_exporter": "python",
   "pygments_lexer": "ipython3",
   "version": "3.9.12"
  }
 },
 "nbformat": 4,
 "nbformat_minor": 5
}
