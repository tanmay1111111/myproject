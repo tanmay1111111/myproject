{
 "cells": [
  {
   "cell_type": "code",
   "execution_count": 3,
   "id": "5a96db24",
   "metadata": {},
   "outputs": [],
   "source": [
    "import numpy as np"
   ]
  },
  {
   "cell_type": "code",
   "execution_count": 12,
   "id": "df316c4d",
   "metadata": {},
   "outputs": [],
   "source": [
    "arr=arange(100000)"
   ]
  },
  {
   "cell_type": "code",
   "execution_count": 13,
   "id": "a4cce9e7",
   "metadata": {},
   "outputs": [],
   "source": [
    "pylist=list(range(100000))"
   ]
  },
  {
   "cell_type": "code",
   "execution_count": 15,
   "id": "22c54867",
   "metadata": {},
   "outputs": [
    {
     "name": "stdout",
     "output_type": "stream",
     "text": [
      "CPU times: total: 141 ms\n",
      "Wall time: 139 ms\n"
     ]
    }
   ],
   "source": [
    "%time for _ in range(10):[item*3 for item in pylist]"
   ]
  },
  {
   "cell_type": "code",
   "execution_count": 20,
   "id": "a04fce11",
   "metadata": {},
   "outputs": [
    {
     "data": {
      "text/plain": [
       "array([3, 5, 6, 7])"
      ]
     },
     "execution_count": 20,
     "metadata": {},
     "output_type": "execute_result"
    }
   ],
   "source": [
    "np.array([3,5,6,7])"
   ]
  },
  {
   "cell_type": "code",
   "execution_count": null,
   "id": "7ba444fc",
   "metadata": {},
   "outputs": [],
   "source": []
  },
  {
   "cell_type": "code",
   "execution_count": null,
   "id": "38e270d2",
   "metadata": {},
   "outputs": [],
   "source": []
  },
  {
   "cell_type": "code",
   "execution_count": null,
   "id": "838498cd",
   "metadata": {},
   "outputs": [],
   "source": []
  },
  {
   "cell_type": "code",
   "execution_count": null,
   "id": "722fc71e",
   "metadata": {},
   "outputs": [],
   "source": []
  }
 ],
 "metadata": {
  "kernelspec": {
   "display_name": "Python 3 (ipykernel)",
   "language": "python",
   "name": "python3"
  },
  "language_info": {
   "codemirror_mode": {
    "name": "ipython",
    "version": 3
   },
   "file_extension": ".py",
   "mimetype": "text/x-python",
   "name": "python",
   "nbconvert_exporter": "python",
   "pygments_lexer": "ipython3",
   "version": "3.9.12"
  }
 },
 "nbformat": 4,
 "nbformat_minor": 5
}
