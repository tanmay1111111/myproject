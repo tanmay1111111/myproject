{
 "cells": [
  {
   "cell_type": "code",
   "execution_count": 1,
   "id": "18224aa2",
   "metadata": {},
   "outputs": [],
   "source": [
    "#sigmoid function=1/(1+e^-x)\n",
    "#cost function(c=-log(p) if y=1 for actual value 1 if the predicted value is more cost will be 0, if it predict value is 0 \n",
    "#cost will be high,becaue -log(0) is hgh \n",
    "#c=-log(1-p) if y=0 for actual value 0 if the predicted value is less  cost will be 0, if it predict value is wrong ie 1 \n",
    "#cost will be high,becaue -log(0) is hgh for single training instance"
   ]
  },
  {
   "cell_type": "code",
   "execution_count": 2,
   "id": "add2769d",
   "metadata": {},
   "outputs": [
    {
     "name": "stdout",
     "output_type": "stream",
     "text": [
      "['data', 'target', 'frame', 'target_names', 'DESCR', 'feature_names', 'filename', 'data_module']\n"
     ]
    }
   ],
   "source": [
    "#train a logistic regression classifier to perdict wheather a flower is iris vergina or not\n",
    "from sklearn import datasets\n",
    "import numpy as np\n",
    "from sklearn.linear_model import LogisticRegression\n",
    "iris=datasets.load_iris()\n",
    "print(list(iris.keys()))"
   ]
  },
  {
   "cell_type": "code",
   "execution_count": 3,
   "id": "2e2e0c1d",
   "metadata": {},
   "outputs": [],
   "source": [
    "#print(iris['data'])\n",
    "#print(iris['target'])\n",
    "#print(iris['DESCR'])"
   ]
  },
  {
   "cell_type": "code",
   "execution_count": 4,
   "id": "dce6f3e4",
   "metadata": {},
   "outputs": [
    {
     "name": "stdout",
     "output_type": "stream",
     "text": [
      "[0 0 0 0 0 0 0 0 0 0 0 0 0 0 0 0 0 0 0 0 0 0 0 0 0 0 0 0 0 0 0 0 0 0 0 0 0\n",
      " 0 0 0 0 0 0 0 0 0 0 0 0 0 0 0 0 0 0 0 0 0 0 0 0 0 0 0 0 0 0 0 0 0 0 0 0 0\n",
      " 0 0 0 0 0 0 0 0 0 0 0 0 0 0 0 0 0 0 0 0 0 0 0 0 0 0 1 1 1 1 1 1 1 1 1 1 1\n",
      " 1 1 1 1 1 1 1 1 1 1 1 1 1 1 1 1 1 1 1 1 1 1 1 1 1 1 1 1 1 1 1 1 1 1 1 1 1\n",
      " 1 1]\n"
     ]
    }
   ],
   "source": [
    "x=iris[\"data\"][:,3:]\n",
    "y=(iris[\"target\"]==2).astype(np.int8)\n",
    "print(y)\n",
    "#print(x)"
   ]
  },
  {
   "cell_type": "code",
   "execution_count": 5,
   "id": "d4953216",
   "metadata": {},
   "outputs": [
    {
     "name": "stdout",
     "output_type": "stream",
     "text": [
      "[0]\n"
     ]
    }
   ],
   "source": [
    "clf=LogisticRegression()\n",
    "clf.fit(x,y)\n",
    "ex=clf.predict(([[0.6]]))\n",
    "print(ex)"
   ]
  },
  {
   "cell_type": "code",
   "execution_count": 6,
   "id": "100595bb",
   "metadata": {},
   "outputs": [],
   "source": [
    "import matplotlib.pyplot as plt"
   ]
  },
  {
   "cell_type": "code",
   "execution_count": 10,
   "id": "79c5a96e",
   "metadata": {},
   "outputs": [
    {
     "name": "stdout",
     "output_type": "stream",
     "text": [
      "[[9.99250016e-01 7.49984089e-04]\n",
      " [9.99240201e-01 7.59799387e-04]\n",
      " [9.99230257e-01 7.69743043e-04]\n",
      " ...\n",
      " [3.08374822e-03 9.96916252e-01]\n",
      " [3.04400296e-03 9.96955997e-01]\n",
      " [3.00476842e-03 9.96995232e-01]]\n"
     ]
    }
   ],
   "source": [
    "x1=np.linspace(0,3,1000).reshape(-1,1)\n",
    "y=clf.predict_proba(x1)"
   ]
  },
  {
   "cell_type": "code",
   "execution_count": 18,
   "id": "e63c30ea",
   "metadata": {},
   "outputs": [
    {
     "data": {
      "image/png": "[encoded data removed]",
      "text/plain": [
       "<Figure size 432x288 with 1 Axes>"
      ]
     },
     "metadata": {
      "needs_background": "light"
     },
     "output_type": "display_data"
    }
   ],
   "source": [
    "plt.plot(x1,y[:,1])\n",
    "plt.xlabel(\"verginica\")\n",
    "plt.show()"
   ]
  },
  {
   "cell_type": "code",
   "execution_count": null,
   "id": "3d5aa57e",
   "metadata": {},
   "outputs": [],
   "source": []
  }
 ],
 "metadata": {
  "kernelspec": {
   "display_name": "Python 3 (ipykernel)",
   "language": "python",
   "name": "python3"
  },
  "language_info": {
   "codemirror_mode": {
    "name": "ipython",
    "version": 3
   },
   "file_extension": ".py",
   "mimetype": "text/x-python",
   "name": "python",
   "nbconvert_exporter": "python",
   "pygments_lexer": "ipython3",
   "version": "3.9.12"
  }
 },
 "nbformat": 4,
 "nbformat_minor": 5
}
