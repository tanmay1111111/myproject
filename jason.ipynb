{
 "cells": [
  {
   "cell_type": "code",
   "execution_count": 1,
   "id": "8a6e8696",
   "metadata": {},
   "outputs": [],
   "source": [
    "import json"
   ]
  },
  {
   "cell_type": "code",
   "execution_count": 2,
   "id": "8584d939",
   "metadata": {},
   "outputs": [],
   "source": [
    "people_string=''' {\"people\":[\n",
    "{\"empname\":\"tanmay\",\"id\":\"2333\",\"address\":\"banglore\"},\n",
    "{\"empname\":\"rahul\",\"id\":\"2335\",\"address\":\"gulbarga\"}\n",
    "]}'''"
   ]
  },
  {
   "cell_type": "code",
   "execution_count": 3,
   "id": "c2ee4e3c",
   "metadata": {},
   "outputs": [],
   "source": [
    "data=json.loads(people_string)"
   ]
  },
  {
   "cell_type": "code",
   "execution_count": 4,
   "id": "1b5091ae",
   "metadata": {},
   "outputs": [
    {
     "name": "stdout",
     "output_type": "stream",
     "text": [
      "<class 'dict'>\n"
     ]
    }
   ],
   "source": [
    "print(type(data))"
   ]
  },
  {
   "cell_type": "code",
   "execution_count": 5,
   "id": "059418ef",
   "metadata": {},
   "outputs": [
    {
     "name": "stdout",
     "output_type": "stream",
     "text": [
      "tanmay\n",
      "rahul\n"
     ]
    }
   ],
   "source": [
    "for person in data['people']:\n",
    "    print(person['empname'])"
   ]
  },
  {
   "cell_type": "code",
   "execution_count": 9,
   "id": "9d7cb275",
   "metadata": {},
   "outputs": [],
   "source": [
    "people_string1=''' {\"people\":[\n",
    "{\"empname\":\"tanmay\",\"id\":\"2333\",\"address\":\"banglore\"},\n",
    "{\"empname\":\"mohan\",\"id\":\"2335\",\"address\":\"gulbarga\"}\n",
    "]}'''"
   ]
  },
  {
   "cell_type": "code",
   "execution_count": 12,
   "id": "c024c1c8",
   "metadata": {},
   "outputs": [],
   "source": [
    "data=json.loads(people_string1)"
   ]
  },
  {
   "cell_type": "code",
   "execution_count": 13,
   "id": "69488f34",
   "metadata": {},
   "outputs": [
    {
     "name": "stdout",
     "output_type": "stream",
     "text": [
      "tanmay\n",
      "mohan\n"
     ]
    }
   ],
   "source": [
    "for person in data['people']:\n",
    "    print(person['empname'])"
   ]
  },
  {
   "cell_type": "markdown",
   "id": "95e896df",
   "metadata": {},
   "source": [
    "# tanmay"
   ]
  },
  {
   "cell_type": "code",
   "execution_count": null,
   "id": "d34cb289",
   "metadata": {},
   "outputs": [],
   "source": []
  }
 ],
 "metadata": {
  "kernelspec": {
   "display_name": "Python 3 (ipykernel)",
   "language": "python",
   "name": "python3"
  },
  "language_info": {
   "codemirror_mode": {
    "name": "ipython",
    "version": 3
   },
   "file_extension": ".py",
   "mimetype": "text/x-python",
   "name": "python",
   "nbconvert_exporter": "python",
   "pygments_lexer": "ipython3",
   "version": "3.9.12"
  }
 },
 "nbformat": 4,
 "nbformat_minor": 5
}
